{
 "cells": [
  {
   "cell_type": "markdown",
   "metadata": {},
   "source": [
    "# Final Project - Classification of News Articles using Multinomial Naive Bayes"
   ]
  },
  {
   "cell_type": "markdown",
   "metadata": {},
   "source": [
    "## Setup"
   ]
  },
  {
   "cell_type": "code",
   "execution_count": 27,
   "metadata": {},
   "outputs": [],
   "source": [
    "import numpy as np \n",
    "import pandas as pd\n",
    "import matplotlib.pyplot as plt\n",
    "import seaborn as sns\n",
    "import os\n",
    "#----------------------------------Text Processing---------------------------------#\n",
    "import regex\n",
    "import nltk\n",
    "from nltk.corpus import stopwords \n",
    "from nltk.tokenize import WordPunctTokenizer\n",
    "from string import punctuation\n",
    "from nltk.stem import WordNetLemmatizer\n",
    "from sklearn.feature_extraction.text import TfidfVectorizer\n",
    "#---------------------------------------Model---------------------------------------#\n",
    "\n",
    "from sklearn.model_selection import train_test_split, RandomizedSearchCV\n",
    "from sklearn.metrics import confusion_matrix, accuracy_score\n",
    "from sklearn.metrics import f1_score\n",
    "\n",
    "from sklearn.naive_bayes import MultinomialNB"
   ]
  },
  {
   "cell_type": "markdown",
   "metadata": {},
   "source": [
    "## Reading Data"
   ]
  },
  {
   "cell_type": "code",
   "execution_count": 2,
   "metadata": {},
   "outputs": [
    {
     "data": {
      "text/plain": [
       "['business', 'entertainment', 'politics', 'sport', 'tech']"
      ]
     },
     "execution_count": 2,
     "metadata": {},
     "output_type": "execute_result"
    }
   ],
   "source": [
    "names = []\n",
    "base = 'data/bbc-fulltext/bbc/'\n",
    "with os.scandir(base) as entries:\n",
    "    for entry in entries:\n",
    "        if(entry.is_file() == False):\n",
    "            names.append(entry.name)\n",
    "names"
   ]
  },
  {
   "cell_type": "code",
   "execution_count": 3,
   "metadata": {},
   "outputs": [],
   "source": [
    "files = {}\n",
    "unique = []\n",
    "for name in names:\n",
    "    path = base + name+'/'\n",
    "    x = []\n",
    "    with os.scandir(path) as entries:\n",
    "        for entry in entries:\n",
    "            if(entry.is_file()):\n",
    "                x.append(entry.name)\n",
    "    files[name] = x\n",
    "    files[name].sort()"
   ]
  },
  {
   "cell_type": "code",
   "execution_count": 4,
   "metadata": {},
   "outputs": [
    {
     "name": "stdout",
     "output_type": "stream",
     "text": [
      "business 510\n",
      "entertainment 386\n",
      "politics 417\n",
      "sport 511\n",
      "tech 401\n"
     ]
    }
   ],
   "source": [
    "for k, v in files.items():\n",
    "    print(k, len(v))"
   ]
  },
  {
   "cell_type": "code",
   "execution_count": 5,
   "metadata": {},
   "outputs": [
    {
     "name": "stdout",
     "output_type": "stream",
     "text": [
      "(2225, 2)\n"
     ]
    },
    {
     "data": {
      "text/html": [
       "<div>\n",
       "<style scoped>\n",
       "    .dataframe tbody tr th:only-of-type {\n",
       "        vertical-align: middle;\n",
       "    }\n",
       "\n",
       "    .dataframe tbody tr th {\n",
       "        vertical-align: top;\n",
       "    }\n",
       "\n",
       "    .dataframe thead th {\n",
       "        text-align: right;\n",
       "    }\n",
       "</style>\n",
       "<table border=\"1\" class=\"dataframe\">\n",
       "  <thead>\n",
       "    <tr style=\"text-align: right;\">\n",
       "      <th></th>\n",
       "      <th>Text</th>\n",
       "      <th>Class</th>\n",
       "    </tr>\n",
       "  </thead>\n",
       "  <tbody>\n",
       "    <tr>\n",
       "      <th>0</th>\n",
       "      <td>Ad sales boost Time Warner profit\\n \\n Quarter...</td>\n",
       "      <td>business</td>\n",
       "    </tr>\n",
       "    <tr>\n",
       "      <th>1</th>\n",
       "      <td>Dollar gains on Greenspan speech\\n \\n The doll...</td>\n",
       "      <td>business</td>\n",
       "    </tr>\n",
       "    <tr>\n",
       "      <th>2</th>\n",
       "      <td>Yukos unit buyer faces loan claim\\n \\n The own...</td>\n",
       "      <td>business</td>\n",
       "    </tr>\n",
       "    <tr>\n",
       "      <th>3</th>\n",
       "      <td>High fuel prices hit BA's profits\\n \\n British...</td>\n",
       "      <td>business</td>\n",
       "    </tr>\n",
       "    <tr>\n",
       "      <th>4</th>\n",
       "      <td>Pernod takeover talk lifts Domecq\\n \\n Shares ...</td>\n",
       "      <td>business</td>\n",
       "    </tr>\n",
       "  </tbody>\n",
       "</table>\n",
       "</div>"
      ],
      "text/plain": [
       "                                                Text     Class\n",
       "0  Ad sales boost Time Warner profit\\n \\n Quarter...  business\n",
       "1  Dollar gains on Greenspan speech\\n \\n The doll...  business\n",
       "2  Yukos unit buyer faces loan claim\\n \\n The own...  business\n",
       "3  High fuel prices hit BA's profits\\n \\n British...  business\n",
       "4  Pernod takeover talk lifts Domecq\\n \\n Shares ...  business"
      ]
     },
     "execution_count": 5,
     "metadata": {},
     "output_type": "execute_result"
    }
   ],
   "source": [
    "data = {}\n",
    "i = 0\n",
    "\n",
    "for genre in files.keys() :\n",
    "    texts = files[genre]\n",
    "    for text in texts:\n",
    "        if text in files[genre]:\n",
    "            path = base + genre + '/' + text\n",
    "            with open(path, \"r\", encoding = \"latin1\") as file:\n",
    "                data[i] = file.readlines()\n",
    "                i = i+1\n",
    "            data[i-1] = [\" \".join(data[i-1]), genre] \n",
    "\n",
    "data = pd.DataFrame(data).T\n",
    "print(data.shape)\n",
    "data.columns = ['Text', 'Class']\n",
    "data.head()"
   ]
  },
  {
   "cell_type": "code",
   "execution_count": 6,
   "metadata": {},
   "outputs": [
    {
     "name": "stdout",
     "output_type": "stream",
     "text": [
      "<class 'pandas.core.frame.DataFrame'>\n",
      "Int64Index: 2225 entries, 0 to 2224\n",
      "Data columns (total 2 columns):\n",
      " #   Column  Non-Null Count  Dtype \n",
      "---  ------  --------------  ----- \n",
      " 0   Text    2225 non-null   object\n",
      " 1   Class   2225 non-null   object\n",
      "dtypes: object(2)\n",
      "memory usage: 52.1+ KB\n"
     ]
    }
   ],
   "source": [
    "data.info()"
   ]
  },
  {
   "cell_type": "code",
   "execution_count": 7,
   "metadata": {},
   "outputs": [
    {
     "data": {
      "text/plain": [
       "Text     0\n",
       "Class    0\n",
       "dtype: int64"
      ]
     },
     "execution_count": 7,
     "metadata": {},
     "output_type": "execute_result"
    }
   ],
   "source": [
    "data.isna().sum()"
   ]
  },
  {
   "cell_type": "code",
   "execution_count": 8,
   "metadata": {},
   "outputs": [
    {
     "data": {
      "text/plain": [
       "2127"
      ]
     },
     "execution_count": 8,
     "metadata": {},
     "output_type": "execute_result"
    }
   ],
   "source": [
    "unique = list(data.Text.unique())\n",
    "len(unique)\n",
    "\n",
    "# data.Text.duplicated()"
   ]
  },
  {
   "cell_type": "markdown",
   "metadata": {},
   "source": [
    "### Removing Duplicates"
   ]
  },
  {
   "cell_type": "code",
   "execution_count": 9,
   "metadata": {},
   "outputs": [],
   "source": [
    "dic = dict(data)"
   ]
  },
  {
   "cell_type": "code",
   "execution_count": 10,
   "metadata": {},
   "outputs": [],
   "source": [
    "uni = {}\n",
    "i = 0\n",
    "for k in range(len(list(dic['Text']))):\n",
    "    if dic['Text'][k] in unique:\n",
    "        uni[i] = [dic['Text'][k], dic['Class'][k]]\n",
    "        unique.remove(dic['Text'][k])\n",
    "        i += 1"
   ]
  },
  {
   "cell_type": "code",
   "execution_count": 11,
   "metadata": {},
   "outputs": [
    {
     "name": "stdout",
     "output_type": "stream",
     "text": [
      "(2127, 2)\n"
     ]
    },
    {
     "data": {
      "text/plain": [
       "count      2127\n",
       "unique        5\n",
       "top       sport\n",
       "freq        505\n",
       "Name: Class, dtype: object"
      ]
     },
     "execution_count": 11,
     "metadata": {},
     "output_type": "execute_result"
    }
   ],
   "source": [
    "data = pd.DataFrame(uni).T\n",
    "print(data.shape)\n",
    "data.columns = ['Text', 'Class']\n",
    "data.Class.describe()"
   ]
  },
  {
   "cell_type": "code",
   "execution_count": 44,
   "metadata": {},
   "outputs": [
    {
     "name": "stdout",
     "output_type": "stream",
     "text": [
      "Number left in business :  503\n",
      "Number left in entertainment :  369\n",
      "Number left in politics :  403\n",
      "Number left in sport :  505\n",
      "Number left in tech :  347\n"
     ]
    }
   ],
   "source": [
    "print(\"Number left in business : \", len(data[data.Class == 'business']))\n",
    "print(\"Number left in entertainment : \", len(data[data.Class == 'entertainment']))\n",
    "print(\"Number left in politics : \", len(data[data.Class == 'politics']))\n",
    "print(\"Number left in sport : \", len(data[data.Class == 'sport']))\n",
    "print(\"Number left in tech : \", len(data[data.Class == 'tech']))"
   ]
  },
  {
   "cell_type": "markdown",
   "metadata": {},
   "source": [
    "## Pre-Processing"
   ]
  },
  {
   "cell_type": "markdown",
   "metadata": {},
   "source": [
    "### Removing Stop Words and Stemming"
   ]
  },
  {
   "cell_type": "code",
   "execution_count": 12,
   "metadata": {},
   "outputs": [],
   "source": [
    "wordnet_lemmatizer = WordNetLemmatizer()\n",
    "\n",
    "stop = stopwords.words('english')\n",
    "\n",
    "for punct in punctuation:\n",
    "    stop.append(punct)\n",
    "\n",
    "def filter_text(text, stop_words):\n",
    "    word_tokens = WordPunctTokenizer().tokenize(text.lower())\n",
    "    filtered_text = [regex.sub(u'\\p{^Latin}', u'', w) for w in word_tokens if w.isalpha() and len(w) > 3]\n",
    "    filtered_text = [wordnet_lemmatizer.lemmatize(w, pos=\"v\") for w in filtered_text if not w in stop_words] \n",
    "    return \" \".join(filtered_text)"
   ]
  },
  {
   "cell_type": "code",
   "execution_count": 13,
   "metadata": {},
   "outputs": [
    {
     "data": {
      "text/html": [
       "<div>\n",
       "<style scoped>\n",
       "    .dataframe tbody tr th:only-of-type {\n",
       "        vertical-align: middle;\n",
       "    }\n",
       "\n",
       "    .dataframe tbody tr th {\n",
       "        vertical-align: top;\n",
       "    }\n",
       "\n",
       "    .dataframe thead th {\n",
       "        text-align: right;\n",
       "    }\n",
       "</style>\n",
       "<table border=\"1\" class=\"dataframe\">\n",
       "  <thead>\n",
       "    <tr style=\"text-align: right;\">\n",
       "      <th></th>\n",
       "      <th>Text</th>\n",
       "      <th>Class</th>\n",
       "      <th>filtered_text</th>\n",
       "    </tr>\n",
       "  </thead>\n",
       "  <tbody>\n",
       "    <tr>\n",
       "      <th>0</th>\n",
       "      <td>Ad sales boost Time Warner profit\\n \\n Quarter...</td>\n",
       "      <td>business</td>\n",
       "      <td>sales boost time warner profit quarterly profi...</td>\n",
       "    </tr>\n",
       "    <tr>\n",
       "      <th>1</th>\n",
       "      <td>Dollar gains on Greenspan speech\\n \\n The doll...</td>\n",
       "      <td>business</td>\n",
       "      <td>dollar gain greenspan speech dollar highest le...</td>\n",
       "    </tr>\n",
       "    <tr>\n",
       "      <th>2</th>\n",
       "      <td>Yukos unit buyer faces loan claim\\n \\n The own...</td>\n",
       "      <td>business</td>\n",
       "      <td>yukos unit buyer face loan claim owners embatt...</td>\n",
       "    </tr>\n",
       "    <tr>\n",
       "      <th>3</th>\n",
       "      <td>High fuel prices hit BA's profits\\n \\n British...</td>\n",
       "      <td>business</td>\n",
       "      <td>high fuel price profit british airways blame h...</td>\n",
       "    </tr>\n",
       "    <tr>\n",
       "      <th>4</th>\n",
       "      <td>Pernod takeover talk lifts Domecq\\n \\n Shares ...</td>\n",
       "      <td>business</td>\n",
       "      <td>pernod takeover talk lift domecq share drink f...</td>\n",
       "    </tr>\n",
       "  </tbody>\n",
       "</table>\n",
       "</div>"
      ],
      "text/plain": [
       "                                                Text     Class  \\\n",
       "0  Ad sales boost Time Warner profit\\n \\n Quarter...  business   \n",
       "1  Dollar gains on Greenspan speech\\n \\n The doll...  business   \n",
       "2  Yukos unit buyer faces loan claim\\n \\n The own...  business   \n",
       "3  High fuel prices hit BA's profits\\n \\n British...  business   \n",
       "4  Pernod takeover talk lifts Domecq\\n \\n Shares ...  business   \n",
       "\n",
       "                                       filtered_text  \n",
       "0  sales boost time warner profit quarterly profi...  \n",
       "1  dollar gain greenspan speech dollar highest le...  \n",
       "2  yukos unit buyer face loan claim owners embatt...  \n",
       "3  high fuel price profit british airways blame h...  \n",
       "4  pernod takeover talk lift domecq share drink f...  "
      ]
     },
     "execution_count": 13,
     "metadata": {},
     "output_type": "execute_result"
    }
   ],
   "source": [
    "data[\"filtered_text\"] = data.Text.apply(lambda x : filter_text(x, stop)) \n",
    "data.head()"
   ]
  },
  {
   "cell_type": "markdown",
   "metadata": {},
   "source": [
    "### TF-IDF Vector Conversion"
   ]
  },
  {
   "cell_type": "code",
   "execution_count": 14,
   "metadata": {},
   "outputs": [
    {
     "data": {
      "text/plain": [
       "(2127, 21613)"
      ]
     },
     "execution_count": 14,
     "metadata": {},
     "output_type": "execute_result"
    }
   ],
   "source": [
    "tfidf = TfidfVectorizer(lowercase=True)\n",
    "train_vec = tfidf.fit_transform(data['filtered_text'])\n",
    "train_vec.shape"
   ]
  },
  {
   "cell_type": "code",
   "execution_count": 15,
   "metadata": {},
   "outputs": [
    {
     "data": {
      "text/plain": [
       "array(['business', 'entertainment', 'politics', 'sport', 'tech'],\n",
       "      dtype=object)"
      ]
     },
     "execution_count": 15,
     "metadata": {},
     "output_type": "execute_result"
    }
   ],
   "source": [
    "data.Class.unique()"
   ]
  },
  {
   "cell_type": "code",
   "execution_count": 16,
   "metadata": {},
   "outputs": [],
   "source": [
    "data['classification'] = data['Class'].replace(['business','entertainment','politics', 'sport', 'tech'],[0,1,2,3,4])"
   ]
  },
  {
   "cell_type": "code",
   "execution_count": 17,
   "metadata": {},
   "outputs": [
    {
     "data": {
      "text/html": [
       "<div>\n",
       "<style scoped>\n",
       "    .dataframe tbody tr th:only-of-type {\n",
       "        vertical-align: middle;\n",
       "    }\n",
       "\n",
       "    .dataframe tbody tr th {\n",
       "        vertical-align: top;\n",
       "    }\n",
       "\n",
       "    .dataframe thead th {\n",
       "        text-align: right;\n",
       "    }\n",
       "</style>\n",
       "<table border=\"1\" class=\"dataframe\">\n",
       "  <thead>\n",
       "    <tr style=\"text-align: right;\">\n",
       "      <th></th>\n",
       "      <th>Text</th>\n",
       "      <th>Class</th>\n",
       "      <th>filtered_text</th>\n",
       "      <th>classification</th>\n",
       "    </tr>\n",
       "  </thead>\n",
       "  <tbody>\n",
       "    <tr>\n",
       "      <th>0</th>\n",
       "      <td>Ad sales boost Time Warner profit\\n \\n Quarter...</td>\n",
       "      <td>business</td>\n",
       "      <td>sales boost time warner profit quarterly profi...</td>\n",
       "      <td>0</td>\n",
       "    </tr>\n",
       "    <tr>\n",
       "      <th>1</th>\n",
       "      <td>Dollar gains on Greenspan speech\\n \\n The doll...</td>\n",
       "      <td>business</td>\n",
       "      <td>dollar gain greenspan speech dollar highest le...</td>\n",
       "      <td>0</td>\n",
       "    </tr>\n",
       "    <tr>\n",
       "      <th>2</th>\n",
       "      <td>Yukos unit buyer faces loan claim\\n \\n The own...</td>\n",
       "      <td>business</td>\n",
       "      <td>yukos unit buyer face loan claim owners embatt...</td>\n",
       "      <td>0</td>\n",
       "    </tr>\n",
       "    <tr>\n",
       "      <th>3</th>\n",
       "      <td>High fuel prices hit BA's profits\\n \\n British...</td>\n",
       "      <td>business</td>\n",
       "      <td>high fuel price profit british airways blame h...</td>\n",
       "      <td>0</td>\n",
       "    </tr>\n",
       "    <tr>\n",
       "      <th>4</th>\n",
       "      <td>Pernod takeover talk lifts Domecq\\n \\n Shares ...</td>\n",
       "      <td>business</td>\n",
       "      <td>pernod takeover talk lift domecq share drink f...</td>\n",
       "      <td>0</td>\n",
       "    </tr>\n",
       "    <tr>\n",
       "      <th>...</th>\n",
       "      <td>...</td>\n",
       "      <td>...</td>\n",
       "      <td>...</td>\n",
       "      <td>...</td>\n",
       "    </tr>\n",
       "    <tr>\n",
       "      <th>2122</th>\n",
       "      <td>New consoles promise big problems\\n \\n Making ...</td>\n",
       "      <td>tech</td>\n",
       "      <td>console promise problems make game future cons...</td>\n",
       "      <td>4</td>\n",
       "    </tr>\n",
       "    <tr>\n",
       "      <th>2123</th>\n",
       "      <td>BT program to beat dialler scams\\n \\n BT is in...</td>\n",
       "      <td>tech</td>\n",
       "      <td>program beat dialler scam introduce initiative...</td>\n",
       "      <td>4</td>\n",
       "    </tr>\n",
       "    <tr>\n",
       "      <th>2124</th>\n",
       "      <td>Be careful how you code\\n \\n A new European di...</td>\n",
       "      <td>tech</td>\n",
       "      <td>careful code european directive could software...</td>\n",
       "      <td>4</td>\n",
       "    </tr>\n",
       "    <tr>\n",
       "      <th>2125</th>\n",
       "      <td>US cyber security chief resigns\\n \\n The man m...</td>\n",
       "      <td>tech</td>\n",
       "      <td>cyber security chief resign make sure computer...</td>\n",
       "      <td>4</td>\n",
       "    </tr>\n",
       "    <tr>\n",
       "      <th>2126</th>\n",
       "      <td>Losing yourself in online gaming\\n \\n Online r...</td>\n",
       "      <td>tech</td>\n",
       "      <td>lose online game online role play game time co...</td>\n",
       "      <td>4</td>\n",
       "    </tr>\n",
       "  </tbody>\n",
       "</table>\n",
       "<p>2127 rows × 4 columns</p>\n",
       "</div>"
      ],
      "text/plain": [
       "                                                   Text     Class  \\\n",
       "0     Ad sales boost Time Warner profit\\n \\n Quarter...  business   \n",
       "1     Dollar gains on Greenspan speech\\n \\n The doll...  business   \n",
       "2     Yukos unit buyer faces loan claim\\n \\n The own...  business   \n",
       "3     High fuel prices hit BA's profits\\n \\n British...  business   \n",
       "4     Pernod takeover talk lifts Domecq\\n \\n Shares ...  business   \n",
       "...                                                 ...       ...   \n",
       "2122  New consoles promise big problems\\n \\n Making ...      tech   \n",
       "2123  BT program to beat dialler scams\\n \\n BT is in...      tech   \n",
       "2124  Be careful how you code\\n \\n A new European di...      tech   \n",
       "2125  US cyber security chief resigns\\n \\n The man m...      tech   \n",
       "2126  Losing yourself in online gaming\\n \\n Online r...      tech   \n",
       "\n",
       "                                          filtered_text  classification  \n",
       "0     sales boost time warner profit quarterly profi...               0  \n",
       "1     dollar gain greenspan speech dollar highest le...               0  \n",
       "2     yukos unit buyer face loan claim owners embatt...               0  \n",
       "3     high fuel price profit british airways blame h...               0  \n",
       "4     pernod takeover talk lift domecq share drink f...               0  \n",
       "...                                                 ...             ...  \n",
       "2122  console promise problems make game future cons...               4  \n",
       "2123  program beat dialler scam introduce initiative...               4  \n",
       "2124  careful code european directive could software...               4  \n",
       "2125  cyber security chief resign make sure computer...               4  \n",
       "2126  lose online game online role play game time co...               4  \n",
       "\n",
       "[2127 rows x 4 columns]"
      ]
     },
     "execution_count": 17,
     "metadata": {},
     "output_type": "execute_result"
    }
   ],
   "source": [
    "data"
   ]
  },
  {
   "cell_type": "code",
   "execution_count": 18,
   "metadata": {},
   "outputs": [
    {
     "data": {
      "text/plain": [
       "<2127x21613 sparse matrix of type '<class 'numpy.float64'>'\n",
       "\twith 284268 stored elements in Compressed Sparse Row format>"
      ]
     },
     "execution_count": 18,
     "metadata": {},
     "output_type": "execute_result"
    }
   ],
   "source": [
    "train_vec"
   ]
  },
  {
   "cell_type": "markdown",
   "metadata": {},
   "source": [
    "### Train - Test Split"
   ]
  },
  {
   "cell_type": "code",
   "execution_count": 19,
   "metadata": {},
   "outputs": [],
   "source": [
    "x_train, x_test, y_train, y_test = train_test_split(train_vec,data['classification'], stratify=data['classification'], test_size=0.2)"
   ]
  },
  {
   "cell_type": "code",
   "execution_count": 20,
   "metadata": {},
   "outputs": [
    {
     "data": {
      "text/plain": [
       "<1701x21613 sparse matrix of type '<class 'numpy.float64'>'\n",
       "\twith 227236 stored elements in Compressed Sparse Row format>"
      ]
     },
     "execution_count": 20,
     "metadata": {},
     "output_type": "execute_result"
    }
   ],
   "source": [
    "x_train"
   ]
  },
  {
   "cell_type": "code",
   "execution_count": 21,
   "metadata": {},
   "outputs": [
    {
     "data": {
      "text/plain": [
       "<426x21613 sparse matrix of type '<class 'numpy.float64'>'\n",
       "\twith 57032 stored elements in Compressed Sparse Row format>"
      ]
     },
     "execution_count": 21,
     "metadata": {},
     "output_type": "execute_result"
    }
   ],
   "source": [
    "x_test"
   ]
  },
  {
   "cell_type": "markdown",
   "metadata": {},
   "source": [
    "## Training the Model"
   ]
  },
  {
   "cell_type": "markdown",
   "metadata": {},
   "source": [
    "### Getting the optimized parameters"
   ]
  },
  {
   "cell_type": "code",
   "execution_count": 22,
   "metadata": {},
   "outputs": [
    {
     "name": "stdout",
     "output_type": "stream",
     "text": [
      "Fitting 5 folds for each of 300 candidates, totalling 1500 fits\n"
     ]
    },
    {
     "data": {
      "text/plain": [
       "{'fit_prior': False, 'alpha': 0.018000000000000002}"
      ]
     },
     "execution_count": 22,
     "metadata": {},
     "output_type": "execute_result"
    }
   ],
   "source": [
    "alpha = np.arange(0, 1, 0.001)\n",
    "fit_prior = [True, False]\n",
    "\n",
    "params = {\n",
    "    'alpha' : alpha,\n",
    "    'fit_prior' : fit_prior\n",
    "}\n",
    "\n",
    "random_search = RandomizedSearchCV(\n",
    "    estimator = MultinomialNB(),\n",
    "    param_distributions = params,\n",
    "    n_iter = 300,\n",
    "    cv = 5,\n",
    "    n_jobs = -1,\n",
    "    random_state = 1,\n",
    "    verbose = 1\n",
    ").fit(x_train, y_train)\n",
    "\n",
    "random_search.best_params_"
   ]
  },
  {
   "cell_type": "markdown",
   "metadata": {},
   "source": [
    "<p>After performing 5 fold cross validation for 300 iterations, the best values for the additive laplace smoothing parameter was 0.018 and it was determined better to have a uniform prior</p>"
   ]
  },
  {
   "cell_type": "markdown",
   "metadata": {},
   "source": [
    "### Model"
   ]
  },
  {
   "cell_type": "code",
   "execution_count": 23,
   "metadata": {},
   "outputs": [
    {
     "data": {
      "text/plain": [
       "0.9976484420928865"
      ]
     },
     "execution_count": 23,
     "metadata": {},
     "output_type": "execute_result"
    }
   ],
   "source": [
    "model_mnb = random_search.best_estimator_\n",
    "model_mnb.score(x_train, y_train)"
   ]
  },
  {
   "cell_type": "code",
   "execution_count": 25,
   "metadata": {},
   "outputs": [
    {
     "name": "stdout",
     "output_type": "stream",
     "text": [
      "Accuracy Score :  0.9671361502347418\n"
     ]
    }
   ],
   "source": [
    "y_predicted = model_mnb.predict(x_test)\n",
    "\n",
    "mnb_acc = accuracy_score(y_test,y_predicted)\n",
    "\n",
    "print(\"Accuracy Score : \", mnb_acc)"
   ]
  },
  {
   "cell_type": "code",
   "execution_count": 26,
   "metadata": {},
   "outputs": [
    {
     "data": {
      "text/plain": [
       "array([[ 98,   0,   0,   0,   3],\n",
       "       [  0,  69,   3,   0,   2],\n",
       "       [  0,   1,  79,   0,   1],\n",
       "       [  0,   0,   0, 101,   0],\n",
       "       [  1,   2,   1,   0,  65]], dtype=int64)"
      ]
     },
     "execution_count": 26,
     "metadata": {},
     "output_type": "execute_result"
    }
   ],
   "source": [
    "confusion_matrix(y_test,y_predicted)"
   ]
  },
  {
   "cell_type": "code",
   "execution_count": 34,
   "metadata": {},
   "outputs": [
    {
     "data": {
      "text/plain": [
       "0.9672141300862307"
      ]
     },
     "execution_count": 34,
     "metadata": {},
     "output_type": "execute_result"
    }
   ],
   "source": [
    "f1_score(y_test, y_predicted, average='weighted')"
   ]
  },
  {
   "cell_type": "code",
   "execution_count": 37,
   "metadata": {},
   "outputs": [
    {
     "data": {
      "image/png": "[encoded data removed]",
      "text/plain": [
       "<Figure size 1152x648 with 2 Axes>"
      ]
     },
     "metadata": {},
     "output_type": "display_data"
    }
   ],
   "source": [
    "sns.set(rc = {'figure.figsize':(16,9)})\n",
    "ax = sns.heatmap(confusion_matrix(y_test,y_predicted),annot=True)\n",
    "ax = ax.set(xlabel='Predicted',ylabel='True',title='Confusion Matrix',\n",
    "            xticklabels=(['business','entertainment','politics', 'sport', 'tech']),\n",
    "            yticklabels=(['business','entertainment','politics', 'sport', 'tech']))"
   ]
  },
  {
   "cell_type": "markdown",
   "metadata": {},
   "source": [
    "## Summary"
   ]
  },
  {
   "cell_type": "markdown",
   "metadata": {},
   "source": [
    "<p>In this project I have tried to create a model that can categorize news articles into their respective categories. As a sample dataset I have chosen a dataset containing 2225 news articles under the categories of business(510), entertainment(386), politics(417), sport(511) and tech(401). Of the given news articles, after removing duplicates we were left with:\n",
    "<ul>Number left in business :  503</ul>\n",
    "<ul>Number left in entertainment :  369</ul>\n",
    "<ul>Number left in politics :  403</ul>\n",
    "<ul>Number left in sport :  505</ul>\n",
    "<ul>Number left in tech :  347</ul>\n",
    "</p>\n",
    "\n",
    "<p>Next we work on the words in the preprocessing stage, define a WordNetLemmatizer for stemming and nltk stop word to get rid of regular small worlds used in the english language, additionally adding punctuations to the stop words as well. Then we pass our document texts through the filter function that loops through the text file and returns a file where the words are stemmed, punctuations and stop words are removed and all words are made lower case and are separated by one space and we store this as filtered text. Then we use the TfidfVectorizer to return a sparse matrix depiction of our document. This set of documents contain 21613 unique words. Then we do a 80:20 split for train - test.</p>\n",
    "\n",
    "<p>In the process to build the model we use the RandomizedCV to perform search to get the optimal parameter setup for our multinomial naive bayes model. In this case we got a value of 0.018 for the laplace smoothing parameter and was recommended to use a uniform prior rather than learn class prior probabilities. Using these parameters to train a model, we got an model with accuracy 96.71% and f-Score of 0.9672. Please look at the graph above for the confusion matrix</p>"
   ]
  }
 ],
 "metadata": {
  "interpreter": {
   "hash": "5bac5058adf46ce27f4c9fade7085e0023410bfae61552e00c1be320be71cf8f"
  },
  "kernelspec": {
   "display_name": "Python 3.9.7 64-bit ('my_notebook2_ev': venv)",
   "language": "python",
   "name": "python3"
  },
  "language_info": {
   "codemirror_mode": {
    "name": "ipython",
    "version": 3
   },
   "file_extension": ".py",
   "mimetype": "text/x-python",
   "name": "python",
   "nbconvert_exporter": "python",
   "pygments_lexer": "ipython3",
   "version": "3.9.7"
  },
  "orig_nbformat": 4
 },
 "nbformat": 4,
 "nbformat_minor": 2
}
